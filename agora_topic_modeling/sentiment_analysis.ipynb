{
 "cells": [
  {
   "cell_type": "code",
   "execution_count": null,
   "metadata": {},
   "outputs": [],
   "source": [
    "import pandas as pd\n",
    "import numpy as np"
   ]
  },
  {
   "cell_type": "code",
   "execution_count": null,
   "metadata": {},
   "outputs": [],
   "source": [
    "def load_doc_infos(filepath: str) -> pd.DataFrame:\n",
    "    doc_infos = pd.read_csv(filepath, index_col=0)\n",
    "    doc_infos[\"Topic\"] = doc_infos[\"Topic\"].astype(int)\n",
    "    doc_infos = doc_infos.sort_values(\"Probability\", ascending=False)\n",
    "    return doc_infos"
   ]
  },
  {
   "cell_type": "markdown",
   "metadata": {},
   "source": [
    "Cellule à modifier en fonction du fichier que l'on souhaite enrichir avec du sentiment analysis"
   ]
  },
  {
   "cell_type": "code",
   "execution_count": null,
   "metadata": {},
   "outputs": [],
   "source": [
    "#question_short = \"new_mesure_transition_ecologique\"\n",
    "#question_short = \"MDPH_MDU_negatif\"\n",
    "#question_short = \"democratie_locale\"\n",
    "question_short = \"intelligence_artificielle\""
   ]
  },
  {
   "cell_type": "code",
   "execution_count": null,
   "metadata": {},
   "outputs": [],
   "source": [
    "DATA_FOLDER = \"../data/\"\n",
    "QUESTION_FOLDER = DATA_FOLDER + f\"topic_modeling/{question_short}/\"\n",
    "FILEPATH = QUESTION_FOLDER + \"doc_infos.csv\""
   ]
  },
  {
   "cell_type": "code",
   "execution_count": null,
   "metadata": {},
   "outputs": [],
   "source": [
    "doc_info = load_doc_infos(FILEPATH)"
   ]
  },
  {
   "cell_type": "code",
   "execution_count": null,
   "metadata": {},
   "outputs": [],
   "source": [
    "from transformers import pipeline\n",
    "#sentiment_pipeline = pipeline(\"sentiment-analysis\", model=\"nlptown/bert-base-multilingual-uncased-sentiment\")\n",
    "def get_sentiment_pipeline():\n",
    "    sentiment_pipeline = pipeline(\"sentiment-analysis\", model=\"lxyuan/distilbert-base-multilingual-cased-sentiments-student\", max_length=512, truncation=True)\n",
    "    return sentiment_pipeline"
   ]
  },
  {
   "cell_type": "code",
   "execution_count": null,
   "metadata": {},
   "outputs": [],
   "source": [
    "def add_sentiment_analysis_resutls_to_df(\n",
    "        doc_info: pd.DataFrame, sentiments: list[dict]):\n",
    "    doc_info_w_sentiment = doc_info.copy()\n",
    "    doc_info_w_sentiment[\"sentiment\"] = list(map(lambda x: x.get(\"label\"), sentiments))\n",
    "    doc_info_w_sentiment[\"sentiment_score\"] = list(map(lambda x: x.get(\"score\"), sentiments))\n",
    "    # doc_info_w_sentiment[\"is_high_score\"] = doc_info_w_sentiment[\"score\"] > 0.75\n",
    "    return doc_info_w_sentiment"
   ]
  },
  {
   "cell_type": "code",
   "execution_count": null,
   "metadata": {},
   "outputs": [],
   "source": [
    "doc_info[\"Document\"].values"
   ]
  },
  {
   "cell_type": "code",
   "execution_count": null,
   "metadata": {},
   "outputs": [],
   "source": [
    "# topic = 1\n",
    "# topic_info = doc_info[doc_info[\"Topic\"] == topic]\n",
    "sentiment_pipeline = get_sentiment_pipeline()\n",
    "X = doc_info[\"Document\"].values\n",
    "result = sentiment_pipeline(list(X))"
   ]
  },
  {
   "cell_type": "code",
   "execution_count": null,
   "metadata": {},
   "outputs": [],
   "source": [
    "doc_info_w_sentiment = add_sentiment_analysis_resutls_to_df(doc_info, result)\n",
    "#doc_info_w_sentiment"
   ]
  },
  {
   "cell_type": "code",
   "execution_count": null,
   "metadata": {},
   "outputs": [],
   "source": [
    "def save_sentiment(df: pd.DataFrame):\n",
    "    save_path = f\"{QUESTION_FOLDER}doc_info_sentiments.csv\"\n",
    "    df.to_csv(save_path)\n",
    "\n",
    "save_sentiment(doc_info_w_sentiment)"
   ]
  },
  {
   "cell_type": "code",
   "execution_count": null,
   "metadata": {},
   "outputs": [],
   "source": [
    "doc_info"
   ]
  },
  {
   "cell_type": "code",
   "execution_count": null,
   "metadata": {},
   "outputs": [],
   "source": [
    "sentiment_pipeline(\"aide à l'installation de pompes à chaleur et de panneaux photovoltaïques\")"
   ]
  },
  {
   "cell_type": "code",
   "execution_count": null,
   "metadata": {},
   "outputs": [],
   "source": [
    "X[10]"
   ]
  }
 ],
 "metadata": {
  "kernelspec": {
   "display_name": "agora",
   "language": "python",
   "name": "python3"
  },
  "language_info": {
   "codemirror_mode": {
    "name": "ipython",
    "version": 3
   },
   "file_extension": ".py",
   "mimetype": "text/x-python",
   "name": "python",
   "nbconvert_exporter": "python",
   "pygments_lexer": "ipython3",
   "version": "3.10.5"
  }
 },
 "nbformat": 4,
 "nbformat_minor": 2
}
