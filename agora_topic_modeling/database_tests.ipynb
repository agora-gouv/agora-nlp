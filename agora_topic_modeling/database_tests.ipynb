{
 "cells": [
  {
   "cell_type": "code",
   "execution_count": null,
   "metadata": {},
   "outputs": [],
   "source": [
    "import pandas as pd\n",
    "import uuid\n",
    "from code.psql_utils import get_connection, config"
   ]
  },
  {
   "cell_type": "code",
   "execution_count": null,
   "metadata": {},
   "outputs": [],
   "source": [
    "# Data read\n",
    "filepath = \"../data/topic_modeling/intelligence_artificielle/doc_info_sentiments.csv\"\n",
    "question = \"C’est la dernière question : souhaitez-vous nous partager d’autres remarques ou idées dans cette consultation sur l’intelligence artificielle ? ,L’intelligence artificielle : quelles priorités ?\"\n",
    "consultation_name = \"intelligence_artificielle\"\n",
    "doc_infos = pd.read_csv(filepath, index_col=0)"
   ]
  },
  {
   "cell_type": "code",
   "execution_count": null,
   "metadata": {},
   "outputs": [],
   "source": [
    "def prep_before_sql(doc_infos: pd.DataFrame)-> pd.DataFrame:\n",
    "    preped_df = doc_infos.copy()\n",
    "    columns = {\"Document\": \"text\",\n",
    "               \"Probability\": \"topic_probability\",\n",
    "               \"Topic\": \"topic\"}\n",
    "    preped_df = preped_df.rename(columns=columns)\n",
    "    preped_df.loc[:, \"sub_topic_id\"] = preped_df.groupby([\"topic\", \"sub_topic\"]).topic.transform(lambda g: uuid.uuid4())\n",
    "    preped_df.loc[:, \"topic_id\"] = preped_df.groupby(\"topic\").topic.transform(lambda g: uuid.uuid4())\n",
    "    \n",
    "    #Here the column taken before apply [\"topic\"] doesn't matter, it is just to generate a random uuid for each row\n",
    "    preped_df.loc[:, \"id\"] = preped_df[\"topic\"].apply(lambda g: uuid.uuid4())\n",
    "    \n",
    "    origin_response = preped_df.groupby(\"old_index\").agg(origin_response_id=(\"id\", \"first\"))\n",
    "    preped_df = preped_df.join(origin_response, on=\"old_index\")\n",
    "    #preped_df[\"fracking_count\"] = preped_df[\"fracking_count\"].astype(int)\n",
    "\n",
    "    columns_to_keep = [\"id\", \"text\", \"topic_id\", \"sub_topic_id\", \"origin_response_id\", \"topic_probability\", \"sentiment\", \"sentiment_score\", \"Name\", \"sub_name\", \"fracking_count\", \"Representative_document\"]\n",
    "    return preped_df[columns_to_keep]"
   ]
  },
  {
   "cell_type": "code",
   "execution_count": null,
   "metadata": {},
   "outputs": [],
   "source": [
    "doc_infos"
   ]
  },
  {
   "cell_type": "code",
   "execution_count": null,
   "metadata": {},
   "outputs": [],
   "source": [
    "def prep_sub_topics(preped_df: pd.DataFrame):\n",
    "    sub_topics = preped_df.groupby(\"sub_topic_id\").agg(name=(\"sub_name\", \"first\"), parent_topic_id=(\"topic_id\", \"first\")).reset_index()\n",
    "    sub_topics = sub_topics.rename(columns={\"sub_topic_id\": \"id\"})\n",
    "    return sub_topics\n",
    "\n",
    "def prep_topic(preped_df: pd.DataFrame, question: str, consultation_name: str)-> pd.DataFrame:\n",
    "    topics = preped_df.groupby(\"topic_id\").agg(name=(\"Name\", \"first\")).reset_index()\n",
    "    topics = topics.rename(columns={\"topic_id\": \"id\"})\n",
    "    sub_topics = prep_sub_topics(preped_df)\n",
    "    \n",
    "    consultation_id = uuid.uuid4()\n",
    "    consultation_df = pd.DataFrame({\"title\": [consultation_name], \"id\":[consultation_id]})\n",
    "    question_id = uuid.uuid4()\n",
    "    question_df = pd.DataFrame({\"title\": [question], \"id\":[question_id], \"consultation_id\": [consultation_id]})\n",
    "    topics_df = pd.concat([topics, sub_topics])\n",
    "    topics_df[\"question_id\"] = question_id\n",
    "    return consultation_df, question_df, topics_df\n",
    "\n",
    "# CREATE TABLE representative_responses (\n",
    "#     response_id UUID NOT NULL,\n",
    "#     topic_id UUID NOT NULL,\n",
    "#     FOREIGN KEY (response_id) REFERENCES responses(id),\n",
    "#     FOREIGN KEY (topic_id) REFERENCES topics(id)\n",
    "# );\n",
    "\n",
    "\n",
    "def prep_representative_answers(preped_df: pd.DataFrame):\n",
    "    representative_df = preped_df[preped_df[\"Representative_document\"]][[\"topic_id\", \"id\"]]\n",
    "    representative_df = representative_df.rename(columns={\"id\": \"response_id\"})\n",
    "    return representative_df"
   ]
  },
  {
   "cell_type": "code",
   "execution_count": null,
   "metadata": {},
   "outputs": [],
   "source": [
    "preped_df = prep_before_sql(doc_infos)\n",
    "representative_df = prep_representative_answers(preped_df)\n",
    "#preped_df"
   ]
  },
  {
   "cell_type": "code",
   "execution_count": null,
   "metadata": {},
   "outputs": [],
   "source": [
    "consultation_df, question_df, topics_df = prep_topic(preped_df, question, consultation_name)\n",
    "responses_df = preped_df.drop(columns=[\"Name\", \"sub_name\", \"Representative_document\"])\n",
    "topics_df"
   ]
  },
  {
   "cell_type": "markdown",
   "metadata": {},
   "source": [
    "## Insertion"
   ]
  },
  {
   "cell_type": "code",
   "execution_count": null,
   "metadata": {},
   "outputs": [],
   "source": [
    "from sqlalchemy import create_engine, select, inspect\n",
    "from sqlalchemy.engine import URL\n",
    "\n",
    "def get_engine(section=\"postgresql\"):\n",
    "    params = config(section=section)\n",
    "    url_object = URL.create(\"postgresql\", **params)\n",
    "    engine = create_engine(url_object)\n",
    "    return engine"
   ]
  },
  {
   "cell_type": "code",
   "execution_count": null,
   "metadata": {},
   "outputs": [],
   "source": [
    "engine = get_engine(section=\"agora_nlp_alc\")"
   ]
  },
  {
   "cell_type": "code",
   "execution_count": null,
   "metadata": {},
   "outputs": [],
   "source": [
    "inspector = inspect(engine)"
   ]
  },
  {
   "cell_type": "code",
   "execution_count": null,
   "metadata": {},
   "outputs": [],
   "source": [
    "inspector.get_schema_names()"
   ]
  },
  {
   "cell_type": "code",
   "execution_count": null,
   "metadata": {},
   "outputs": [],
   "source": [
    "inspector.get_table_names(\"public\")"
   ]
  },
  {
   "cell_type": "code",
   "execution_count": null,
   "metadata": {},
   "outputs": [],
   "source": [
    "#inspector.get_columns(\"topics\")"
   ]
  },
  {
   "cell_type": "code",
   "execution_count": null,
   "metadata": {},
   "outputs": [],
   "source": [
    "connection = engine.connect()"
   ]
  },
  {
   "cell_type": "code",
   "execution_count": null,
   "metadata": {},
   "outputs": [],
   "source": [
    "if_exists=\"append\"\n",
    "consultation_df.to_sql(\"consultations\", connection, if_exists=if_exists, index=False)"
   ]
  },
  {
   "cell_type": "code",
   "execution_count": null,
   "metadata": {},
   "outputs": [],
   "source": [
    "question_df.to_sql(\"questions\", connection, if_exists=if_exists, index=False)"
   ]
  },
  {
   "cell_type": "code",
   "execution_count": null,
   "metadata": {},
   "outputs": [],
   "source": [
    "topics_df.to_sql(\"topics\", connection, if_exists=if_exists, index=False)"
   ]
  },
  {
   "cell_type": "code",
   "execution_count": null,
   "metadata": {},
   "outputs": [],
   "source": [
    "schema = inspector.get_columns(\"responses\")\n",
    "expected_cols = [col.get(\"name\") for col in schema]\n",
    "expected_cols_type = [col.get(\"type\") for col in schema]\n",
    "print(expected_cols)\n",
    "print(expected_cols_type)"
   ]
  },
  {
   "cell_type": "code",
   "execution_count": null,
   "metadata": {},
   "outputs": [],
   "source": [
    "actual_cols = responses_df.columns.values\n",
    "for col in expected_cols:\n",
    "    #print(expected_cols)\n",
    "    if col not in actual_cols:\n",
    "        print(col)"
   ]
  },
  {
   "cell_type": "code",
   "execution_count": null,
   "metadata": {},
   "outputs": [],
   "source": [
    "responses_df.to_sql(\"responses\", connection, if_exists=if_exists, index=False)"
   ]
  },
  {
   "cell_type": "code",
   "execution_count": null,
   "metadata": {},
   "outputs": [],
   "source": [
    "representative_df.to_sql(\"representative_responses\", connection, if_exists=if_exists, index=False)"
   ]
  },
  {
   "cell_type": "code",
   "execution_count": null,
   "metadata": {},
   "outputs": [],
   "source": [
    "responses_df"
   ]
  },
  {
   "cell_type": "markdown",
   "metadata": {},
   "source": [
    "## Vérification"
   ]
  },
  {
   "cell_type": "code",
   "execution_count": null,
   "metadata": {},
   "outputs": [],
   "source": [
    "def drop_cascade(table: str, conn):\n",
    "    cursor = conn.cursor()\n",
    "    result = cursor.execute(f\"DELETE FROM {table};\")\n",
    "    return result"
   ]
  },
  {
   "cell_type": "code",
   "execution_count": null,
   "metadata": {},
   "outputs": [],
   "source": [
    "agora_nlp_conn = get_connection(section=\"agora_nlp_psy\")"
   ]
  },
  {
   "cell_type": "code",
   "execution_count": null,
   "metadata": {},
   "outputs": [],
   "source": [
    "connection = engine.connect()"
   ]
  },
  {
   "cell_type": "code",
   "execution_count": null,
   "metadata": {},
   "outputs": [],
   "source": [
    "drop_cascade(\"consultations\", connection)"
   ]
  },
  {
   "cell_type": "code",
   "execution_count": null,
   "metadata": {},
   "outputs": [],
   "source": [
    "pd.read_sql_query(\"SELECT * FROM questions\", connection)"
   ]
  },
  {
   "cell_type": "code",
   "execution_count": null,
   "metadata": {},
   "outputs": [],
   "source": [
    "conn = get_connection(\"local_prod\")"
   ]
  },
  {
   "cell_type": "code",
   "execution_count": null,
   "metadata": {},
   "outputs": [],
   "source": [
    "pd.read_sql_query(\"\"\"SELECT *\n",
    "FROM INFORMATION_SCHEMA.COLUMNS\n",
    "WHERE TABLE_NAME = N'consultations'\"\"\", conn)"
   ]
  },
  {
   "cell_type": "code",
   "execution_count": null,
   "metadata": {},
   "outputs": [],
   "source": [
    "id = \"5563aeda-092a-11ee-be56-0242ac120002\"\n",
    "df = pd.read_sql_query(f\"SELECT * FROM reponses_consultation WHERE question_id='{id}'\", con=conn)\n",
    "df"
   ]
  },
  {
   "cell_type": "code",
   "execution_count": null,
   "metadata": {},
   "outputs": [],
   "source": [
    "cursor = conn.cursor()"
   ]
  },
  {
   "cell_type": "code",
   "execution_count": null,
   "metadata": {},
   "outputs": [],
   "source": [
    "stmt = \"\"\"SELECT table_name FROM information_schema.tables\n",
    "       WHERE table_schema = 'public'\"\"\"\n",
    "cursor.execute(stmt)\n",
    "result = cursor.fetchall()"
   ]
  },
  {
   "cell_type": "code",
   "execution_count": null,
   "metadata": {},
   "outputs": [],
   "source": [
    "result"
   ]
  },
  {
   "cell_type": "code",
   "execution_count": null,
   "metadata": {},
   "outputs": [],
   "source": [
    "query = \"SELECT * FROM questions\"\n",
    "cursor.execute(query)\n",
    "result = cursor.fetchall()\n",
    "result"
   ]
  },
  {
   "cell_type": "code",
   "execution_count": null,
   "metadata": {},
   "outputs": [],
   "source": [
    "questions = pd.read_sql_query(\"SELECT * FROM questions WHERE type='open'\", con=conn)\n",
    "questions"
   ]
  },
  {
   "cell_type": "code",
   "execution_count": null,
   "metadata": {},
   "outputs": [],
   "source": [
    "result"
   ]
  },
  {
   "cell_type": "code",
   "execution_count": null,
   "metadata": {},
   "outputs": [],
   "source": [
    "stmt = \"\"\"SELECT table_name FROM information_schema.tables\n",
    "       WHERE table_schema = 'public'\"\"\""
   ]
  },
  {
   "cell_type": "code",
   "execution_count": null,
   "metadata": {},
   "outputs": [],
   "source": [
    "cursor.execute(stmt)"
   ]
  },
  {
   "cell_type": "code",
   "execution_count": null,
   "metadata": {},
   "outputs": [],
   "source": [
    "test = pd.read_sql_query('select * from public.topics',con=engine)\n",
    "test"
   ]
  },
  {
   "cell_type": "code",
   "execution_count": null,
   "metadata": {},
   "outputs": [],
   "source": [
    "test"
   ]
  },
  {
   "cell_type": "code",
   "execution_count": null,
   "metadata": {},
   "outputs": [],
   "source": []
  },
  {
   "cell_type": "markdown",
   "metadata": {},
   "source": [
    "## Read Questions"
   ]
  },
  {
   "cell_type": "code",
   "execution_count": null,
   "metadata": {},
   "outputs": [],
   "source": [
    "conn = get_connection(section=\"agora_nlp\")"
   ]
  },
  {
   "cell_type": "code",
   "execution_count": null,
   "metadata": {},
   "outputs": [],
   "source": [
    "result = pd.read_sql(\"SELECT * FROM questions\", conn)\n",
    "result"
   ]
  },
  {
   "cell_type": "code",
   "execution_count": null,
   "metadata": {},
   "outputs": [],
   "source": [
    "id = \"2c154084-0929-11ee-be56-0242ac120002\"\n",
    "reponses_multiples = pd.read_sql_query(f\"SELECT * from reponses_consultation WHERE question_id='{id}'\", conn)\n",
    "reponses_multiples[reponses_multiples[\"response_text\"] != \"\"]"
   ]
  },
  {
   "cell_type": "code",
   "execution_count": null,
   "metadata": {},
   "outputs": [],
   "source": [
    "import pandas as pd\n",
    "query = f\"SELECT * FROM responses_qag WHERE type='open'\"\n",
    "pd.read_sql_query(query, conn)"
   ]
  },
  {
   "cell_type": "code",
   "execution_count": null,
   "metadata": {},
   "outputs": [],
   "source": [
    "result"
   ]
  },
  {
   "cell_type": "markdown",
   "metadata": {},
   "source": [
    "TESTS"
   ]
  },
  {
   "cell_type": "code",
   "execution_count": null,
   "metadata": {},
   "outputs": [],
   "source": [
    "from code.data_preparation import prep_answer_df\n",
    "import pandas as pd"
   ]
  },
  {
   "cell_type": "code",
   "execution_count": null,
   "metadata": {},
   "outputs": [],
   "source": [
    "df = pd.read_parquet(\"data/cleaned_data.parquet\")\n",
    "df"
   ]
  },
  {
   "cell_type": "code",
   "execution_count": null,
   "metadata": {},
   "outputs": [],
   "source": [
    "from code.data_preparation import fracking, compute_response_size\n",
    "import re\n",
    "\n",
    "def prep_answer_df(df: pd.DataFrame, response_col: str):\n",
    "    cleaned_df = df.copy()\n",
    "    NUMBERED_LIST_HANDLER = lambda x: re.sub(r'([0-9]+\\. )', ' ', x)\n",
    "    SPECIAL_CHAR_HANDLER = lambda x: re.sub(r'[()/\\\\]', ' ', x)\n",
    "    WHITESPACE_HANDLER = lambda x: re.sub('\\s+', ' ', re.sub('\\n+', ' ', x.strip()))\n",
    "    cleaned_df[\"cleaned_text\"] = cleaned_df[response_col].apply(NUMBERED_LIST_HANDLER)\n",
    "    cleaned_df[\"cleaned_text\"] = cleaned_df[\"cleaned_text\"].apply(SPECIAL_CHAR_HANDLER)\n",
    "    cleaned_df[\"cleaned_text\"] = cleaned_df[\"cleaned_text\"].apply(WHITESPACE_HANDLER)\n",
    "    print(cleaned_df)\n",
    "    fracked_df = fracking(cleaned_df, \"cleaned_text\", sep=\".\")\n",
    "    fracked_df = fracked_df.dropna(axis=0, subset=[\"fracked_text\"])\n",
    "    fracked_df = compute_response_size(fracked_df, \"fracked_text\")\n",
    "    return fracked_df"
   ]
  },
  {
   "cell_type": "code",
   "execution_count": null,
   "metadata": {},
   "outputs": [],
   "source": []
  }
 ],
 "metadata": {
  "kernelspec": {
   "display_name": "agora",
   "language": "python",
   "name": "python3"
  },
  "language_info": {
   "codemirror_mode": {
    "name": "ipython",
    "version": 3
   },
   "file_extension": ".py",
   "mimetype": "text/x-python",
   "name": "python",
   "nbconvert_exporter": "python",
   "pygments_lexer": "ipython3",
   "version": "3.10.5"
  }
 },
 "nbformat": 4,
 "nbformat_minor": 2
}
